{
 "cells": [
  {
   "cell_type": "code",
   "execution_count": 1,
   "id": "2e3dd01b",
   "metadata": {},
   "outputs": [],
   "source": [
    "#Import library\n",
    "import torch\n",
    "from torch import nn\n",
    "import numpy as np\n",
    "from torch.autograd import Variable\n",
    "import pandas as pd"
   ]
  },
  {
   "cell_type": "markdown",
   "id": "fa28f42e",
   "metadata": {},
   "source": [
    "# Create a Dataset"
   ]
  },
  {
   "cell_type": "code",
   "execution_count": 2,
   "id": "4d94308f",
   "metadata": {},
   "outputs": [],
   "source": [
    "\n",
    "X = torch.normal(0, 1, (1000, 3))\n",
    "y = torch.matmul(X, torch.tensor([1.0, 2, 4])) + 3 + torch.normal(0, 1.0, torch.Size([1000]))/1000000\n",
    "############\n",
    "X = X.numpy()\n",
    "Y = y.numpy()\n",
    "X = np.hstack([np.ones((X.shape[0], 1), X.dtype),X])"
   ]
  },
  {
   "cell_type": "markdown",
   "id": "c335aa76",
   "metadata": {},
   "source": [
    "# Gradient Descent"
   ]
  },
  {
   "cell_type": "code",
   "execution_count": 3,
   "id": "27cfc705",
   "metadata": {},
   "outputs": [],
   "source": [
    "par = np.zeros((X.shape[1], 1))\n",
    "Y = Y.reshape((X.shape[0], 1))\n",
    "epochs = 1000\n",
    "lr = 0.0001\n",
    "for epoch in range(epochs):\n",
    "    e =  X.dot(par) - Y\n",
    "    grad = (2/X.shape[0])*(X.T).dot(e)\n",
    "    par = par - lr*grad"
   ]
  },
  {
   "cell_type": "code",
   "execution_count": 4,
   "id": "9b291205",
   "metadata": {},
   "outputs": [
    {
     "data": {
      "text/plain": [
       "array([[0.56979624],\n",
       "       [0.21532751],\n",
       "       [0.35867955],\n",
       "       [0.70978051]])"
      ]
     },
     "execution_count": 4,
     "metadata": {},
     "output_type": "execute_result"
    }
   ],
   "source": [
    "par"
   ]
  },
  {
   "cell_type": "code",
   "execution_count": null,
   "id": "90aa2f42",
   "metadata": {},
   "outputs": [],
   "source": []
  }
 ],
 "metadata": {
  "kernelspec": {
   "display_name": "Python 3 (ipykernel)",
   "language": "python",
   "name": "python3"
  },
  "language_info": {
   "codemirror_mode": {
    "name": "ipython",
    "version": 3
   },
   "file_extension": ".py",
   "mimetype": "text/x-python",
   "name": "python",
   "nbconvert_exporter": "python",
   "pygments_lexer": "ipython3",
   "version": "3.10.9"
  }
 },
 "nbformat": 4,
 "nbformat_minor": 5
}
